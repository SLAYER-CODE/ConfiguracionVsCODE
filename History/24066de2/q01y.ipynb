{
 "cells": [
  {
   "cell_type": "code",
   "execution_count": 78,
   "metadata": {},
   "outputs": [],
   "source": [
    "from http import cookies\n",
    "import aiohttp\n",
    "from aiohttp_socks import ProxyConnector, SocksConnector,ChainProxyConnector\n",
    "import asyncio\n",
    "import json\n",
    "from bs4 import BeautifulSoup,CData\n",
    "import re"
   ]
  },
  {
   "cell_type": "code",
   "execution_count": 79,
   "metadata": {},
   "outputs": [],
   "source": [
    "connector = ChainProxyConnector.from_urls([\n",
    "        'socks4://127.0.0.1:9050',\n",
    "    ])"
   ]
  },
  {
   "cell_type": "code",
   "execution_count": 80,
   "metadata": {},
   "outputs": [],
   "source": [
    "async def execute():\n",
    "    async with aiohttp.ClientSession(connector=connector) as session:\n",
    "        burp0_url = \"https://ifconfig.me/\"\n",
    "        async with session.get(burp0_url) as resp:\n",
    "            dato=(await resp.text())\n",
    "            k=dato.find('\"ip_address\"')\n",
    "            print(dato[k-5:k+30])"
   ]
  },
  {
   "cell_type": "code",
   "execution_count": 81,
   "metadata": {},
   "outputs": [
    {
     "name": "stdout",
     "output_type": "stream",
     "text": [
      "g id=\"ip_address\">192.42.116.19</st\n"
     ]
    }
   ],
   "source": [
    "await execute()\n",
    "# loop=asyncio.get_event_loop().stop()\n"
   ]
  },
  {
   "cell_type": "code",
   "execution_count": 84,
   "metadata": {},
   "outputs": [
    {
     "name": "stdout",
     "output_type": "stream",
     "text": [
      "['ls /zzz' exited with 2]\n",
      "[stderr]\n",
      "ls: no se puede acceder a '/zzz': No existe el fichero o el directorio\n",
      "\n"
     ]
    }
   ],
   "source": [
    "import asyncio\n",
    "\n",
    "async def run(cmd):\n",
    "    proc = await asyncio.create_subprocess_shell(\n",
    "        cmd,\n",
    "        stdout=asyncio.subprocess.PIPE,\n",
    "        stderr=asyncio.subprocess.PIPE)\n",
    "\n",
    "    stdout, stderr = await proc.communicate()\n",
    "\n",
    "    print(f'[{cmd!r} exited with {proc.returncode}]')\n",
    "    if stdout:\n",
    "        print(f'[stdout]\\n{stdout.decode()}')\n",
    "    if stderr:\n",
    "        print(f'[stderr]\\n{stderr.decode()}')\n",
    "\n",
    "await run('ls /zzz')"
   ]
  },
  {
   "cell_type": "code",
   "execution_count": 91,
   "metadata": {},
   "outputs": [
    {
     "name": "stdout",
     "output_type": "stream",
     "text": [
      "1\n",
      "2\n",
      "3\n",
      "4\n"
     ]
    },
    {
     "data": {
      "text/plain": [
       "[None, None]"
      ]
     },
     "execution_count": 91,
     "metadata": {},
     "output_type": "execute_result"
    }
   ],
   "source": [
    "import asyncio\n",
    "import time\n",
    "\n",
    "async def say_after(delay, what):\n",
    "    await asyncio.sleep(delay)\n",
    "    print(what)\n",
    "\n",
    "await asyncio.gather(*[say_after(5,\"1\"),say_after(10,\"2\")])\n",
    "await asyncio.gather(*[say_after(2,\"3\"),say_after(5,\"4\")])\n"
   ]
  },
  {
   "cell_type": "code",
   "execution_count": 94,
   "metadata": {},
   "outputs": [
    {
     "name": "stderr",
     "output_type": "stream",
     "text": [
      "/usr/lib/python3/dist-packages/pygments/regexopt.py:78: RuntimeWarning: coroutine 'say_after' was never awaited\n",
      "  '|'.join(regex_opt_inner(list(group[1]), '')\n",
      "RuntimeWarning: Enable tracemalloc to get the object allocation traceback\n"
     ]
    },
    {
     "ename": "TypeError",
     "evalue": "An asyncio.Future, a coroutine or an awaitable is required",
     "output_type": "error",
     "traceback": [
      "\u001b[0;31m---------------------------------------------------------------------------\u001b[0m",
      "\u001b[0;31mTypeError\u001b[0m                                 Traceback (most recent call last)",
      "\u001b[1;32m/home/slayer/DiscoD/GO/Python/Examenes/TestingTor.ipynb Cell 7'\u001b[0m in \u001b[0;36m<cell line: 1>\u001b[0;34m()\u001b[0m\n\u001b[0;32m----> <a href='vscode-notebook-cell:/home/slayer/DiscoD/GO/Python/Examenes/TestingTor.ipynb#ch0000010?line=0'>1</a>\u001b[0m \u001b[39mawait\u001b[39;00m asyncio\u001b[39m.\u001b[39mgather(\u001b[39mNone\u001b[39;00m)\n",
      "File \u001b[0;32m/usr/lib/python3.9/asyncio/tasks.py:825\u001b[0m, in \u001b[0;36mgather\u001b[0;34m(loop, return_exceptions, *coros_or_futures)\u001b[0m\n\u001b[1;32m    <a href='file:///usr/lib/python3.9/asyncio/tasks.py?line=822'>823</a>\u001b[0m \u001b[39mfor\u001b[39;00m arg \u001b[39min\u001b[39;00m coros_or_futures:\n\u001b[1;32m    <a href='file:///usr/lib/python3.9/asyncio/tasks.py?line=823'>824</a>\u001b[0m     \u001b[39mif\u001b[39;00m arg \u001b[39mnot\u001b[39;00m \u001b[39min\u001b[39;00m arg_to_fut:\n\u001b[0;32m--> <a href='file:///usr/lib/python3.9/asyncio/tasks.py?line=824'>825</a>\u001b[0m         fut \u001b[39m=\u001b[39m ensure_future(arg, loop\u001b[39m=\u001b[39;49mloop)\n\u001b[1;32m    <a href='file:///usr/lib/python3.9/asyncio/tasks.py?line=825'>826</a>\u001b[0m         \u001b[39mif\u001b[39;00m loop \u001b[39mis\u001b[39;00m \u001b[39mNone\u001b[39;00m:\n\u001b[1;32m    <a href='file:///usr/lib/python3.9/asyncio/tasks.py?line=826'>827</a>\u001b[0m             loop \u001b[39m=\u001b[39m futures\u001b[39m.\u001b[39m_get_loop(fut)\n",
      "File \u001b[0;32m/usr/lib/python3.9/asyncio/tasks.py:679\u001b[0m, in \u001b[0;36mensure_future\u001b[0;34m(coro_or_future, loop)\u001b[0m\n\u001b[1;32m    <a href='file:///usr/lib/python3.9/asyncio/tasks.py?line=676'>677</a>\u001b[0m     \u001b[39mreturn\u001b[39;00m ensure_future(_wrap_awaitable(coro_or_future), loop\u001b[39m=\u001b[39mloop)\n\u001b[1;32m    <a href='file:///usr/lib/python3.9/asyncio/tasks.py?line=677'>678</a>\u001b[0m \u001b[39melse\u001b[39;00m:\n\u001b[0;32m--> <a href='file:///usr/lib/python3.9/asyncio/tasks.py?line=678'>679</a>\u001b[0m     \u001b[39mraise\u001b[39;00m \u001b[39mTypeError\u001b[39;00m(\u001b[39m'\u001b[39m\u001b[39mAn asyncio.Future, a coroutine or an awaitable is \u001b[39m\u001b[39m'\u001b[39m\n\u001b[1;32m    <a href='file:///usr/lib/python3.9/asyncio/tasks.py?line=679'>680</a>\u001b[0m                     \u001b[39m'\u001b[39m\u001b[39mrequired\u001b[39m\u001b[39m'\u001b[39m)\n",
      "\u001b[0;31mTypeError\u001b[0m: An asyncio.Future, a coroutine or an awaitable is required"
     ]
    }
   ],
   "source": [
    "await asyncio.gather(None)"
   ]
  },
  {
   "cell_type": "code",
   "execution_count": 9,
   "metadata": {},
   "outputs": [
    {
     "name": "stdout",
     "output_type": "stream",
     "text": [
      "worker-4 has slept for 0.20 seconds\n",
      "worker-4 has slept for 0.06 seconds\n",
      "worker-5 has slept for 0.28 seconds\n",
      "worker-7 has slept for 0.30 seconds\n",
      "worker-2 has slept for 0.36 seconds\n",
      "worker-4 has slept for 0.17 seconds\n",
      "worker-8 has slept for 0.49 seconds\n",
      "worker-3 has slept for 0.53 seconds\n",
      "worker-8 has slept for 0.06 seconds\n",
      "worker-2 has slept for 0.26 seconds\n",
      "worker-9 has slept for 0.63 seconds\n",
      "worker-6 has slept for 0.68 seconds\n",
      "worker-5 has slept for 0.42 seconds\n",
      "worker-1 has slept for 0.78 seconds\n",
      "worker-0 has slept for 0.90 seconds\n",
      "worker-4 has slept for 0.54 seconds\n",
      "worker-3 has slept for 0.48 seconds\n",
      "worker-7 has slept for 0.85 seconds\n",
      "worker-8 has slept for 0.94 seconds\n",
      "worker-2 has slept for 0.98 seconds\n",
      "XD\n",
      "====\n",
      "3 workers slept in parallel for 1.59 seconds\n",
      "total expected sleep time: 9.93 seconds\n"
     ]
    }
   ],
   "source": [
    "import asyncio\n",
    "import random\n",
    "import time\n",
    "\n",
    "\n",
    "async def worker(name, queue):\n",
    "    while True:\n",
    "        # Get a \"work item\" out of the queue.\n",
    "        sleep_for = await queue.get()\n",
    "\n",
    "        # Sleep for the \"sleep_for\" seconds.\n",
    "        await asyncio.sleep(sleep_for)\n",
    "\n",
    "        # Notify the queue that the \"work item\" has been processed.\n",
    "        queue.task_done()\n",
    "\n",
    "        print(f'{name} has slept for {sleep_for:.2f} seconds')\n",
    "\n",
    "\n",
    "async def main():\n",
    "    # Create a queue that we will use to store our \"workload\".\n",
    "    queue = asyncio.Queue()\n",
    "\n",
    "    # Generate random timings and put them into the queue.\n",
    "    total_sleep_time = 0\n",
    "    for _ in range(20):\n",
    "        sleep_for = random.uniform(0.05, 1.0)\n",
    "        total_sleep_time += sleep_for\n",
    "        queue.put_nowait(sleep_for)\n",
    "\n",
    "    # Create three worker tasks to process the queue concurrently.\n",
    "    tasks = []\n",
    "    for i in range(10):\n",
    "        task = asyncio.create_task(worker(f'worker-{i}', queue))\n",
    "        tasks.append(task)\n",
    "\n",
    "    # Wait until the queue is fully processed.\n",
    "    started_at = time.monotonic()\n",
    "    await queue.join()\n",
    "    \n",
    "    total_slept_for = time.monotonic() - started_at\n",
    "    print(\"XD\")\n",
    "    # Cancel our worker tasks.\n",
    "    for task in tasks:\n",
    "        task.cancel()\n",
    "    # Wait until all worker tasks are cancelled.\n",
    "    await asyncio.gather(*tasks, return_exceptions=True)\n",
    "\n",
    "    print('====')\n",
    "    print(f'3 workers slept in parallel for {total_slept_for:.2f} seconds')\n",
    "    print(f'total expected sleep time: {total_sleep_time:.2f} seconds')\n",
    "await main()"
   ]
  },
  {
   "cell_type": "code",
   "execution_count": 6,
   "metadata": {},
   "outputs": [
    {
     "name": "stderr",
     "output_type": "stream",
     "text": [
      "Task was destroyed but it is pending!\n",
      "task: <Task pending name='Task-11' coro=<worker() done, defined at /tmp/ipykernel_346344/2935093205.py:4> wait_for=<Future cancelled>>\n",
      "Task was destroyed but it is pending!\n",
      "task: <Task pending name='Task-13' coro=<worker() done, defined at /tmp/ipykernel_346344/2609955622.py:4> wait_for=<Future cancelled>>\n"
     ]
    },
    {
     "name": "stdout",
     "output_type": "stream",
     "text": [
      "cc\n",
      "cc\n",
      "cc\n",
      "cc\n",
      "cc\n",
      "cc\n",
      "cc\n",
      "cc\n",
      "cc\n",
      "cc\n"
     ]
    }
   ],
   "source": [
    "import asyncio\n",
    "import random\n",
    "import time\n",
    "\n",
    "\n",
    "async def worker(name, queue):\n",
    "    while True:\n",
    "        sleep_for = await queue.get()\n",
    "        print(sleep_for)\n",
    "        print(name)\n",
    "        \n",
    "queue = asyncio.Queue()\n",
    "tasks = []\n",
    "for i in range(10):\n",
    "    task = asyncio.create_task(worker(f'worker-{i}', queue))\n",
    "    tasks.append(task)\n",
    "    print(\"cc\")\n",
    "\n",
    "await asyncio.gather(*tasks, return_exceptions=True)\n",
    "\n",
    "\n"
   ]
  },
  {
   "cell_type": "code",
   "execution_count": 5,
   "metadata": {},
   "outputs": [
    {
     "name": "stdout",
     "output_type": "stream",
     "text": [
      "Se finalizo!\n",
      "Nombre Final 1 5\n",
      "Nombre Final 2 10\n"
     ]
    }
   ],
   "source": [
    "import asyncio\n",
    "import random\n",
    "import time\n",
    "async def worker(name, queue):\n",
    "    # while True:\n",
    "    # Get a \"work item\" out of the queue.\n",
    "    sleep_for = await queue.get()\n",
    "\n",
    "    # Sleep for the \"sleep_for\" seconds.\n",
    "    await asyncio.sleep(sleep_for)\n",
    "\n",
    "    # Notify the queue that the \"work item\" has been processed.\n",
    "    queue.task_done()\n",
    "\n",
    "    print(f'Nombre {name} {sleep_for }')\n",
    "        \n",
    "        \n",
    "queue = asyncio.Queue()\n",
    "queue.put_nowait(20)\n",
    "queue.put_nowait(5)\n",
    "queue.put_nowait(10)\n",
    "asyncio.create_task(worker(\"Final 1\",queue))\n",
    "asyncio.create_task(worker(\"Final 2\",queue))\n",
    "asyncio.create_task(worker(\"Final 3\",queue))\n",
    "await queue.get()\n",
    "print(\"Se finalizo!\")\n",
    "\n",
    "# print(\"Se ejecuto el gatther los hilos xd\")\n",
    "# await asyncio.gather(worker(\"Mi Name 1\",queue),worker(\"Mi Name 2\",queue),worker(\"Mi Name 3\",queue))\n",
    "# print(queue.full())\n",
    "# print(queue.empty())\n",
    "# print(queue.maxsize)\n",
    "# queue.put"
   ]
  },
  {
   "cell_type": "code",
   "execution_count": 1,
   "metadata": {},
   "outputs": [
    {
     "ename": "CancelledError",
     "evalue": "",
     "output_type": "error",
     "traceback": [
      "\u001b[0;31m---------------------------------------------------------------------------\u001b[0m",
      "\u001b[0;31mCancelledError\u001b[0m                            Traceback (most recent call last)",
      "File \u001b[0;32m/usr/lib/python3.9/asyncio/tasks.py:654\u001b[0m, in \u001b[0;36msleep\u001b[0;34m(delay, result, loop)\u001b[0m\n\u001b[1;32m    <a href='file:///usr/lib/python3.9/asyncio/tasks.py?line=652'>653</a>\u001b[0m \u001b[39mtry\u001b[39;00m:\n\u001b[0;32m--> <a href='file:///usr/lib/python3.9/asyncio/tasks.py?line=653'>654</a>\u001b[0m     \u001b[39mreturn\u001b[39;00m \u001b[39mawait\u001b[39;00m future\n\u001b[1;32m    <a href='file:///usr/lib/python3.9/asyncio/tasks.py?line=654'>655</a>\u001b[0m \u001b[39mfinally\u001b[39;00m:\n",
      "\u001b[0;31mCancelledError\u001b[0m: ",
      "\nDuring handling of the above exception, another exception occurred:\n",
      "\u001b[0;31mCancelledError\u001b[0m                            Traceback (most recent call last)",
      "\u001b[1;32m/home/slayer/DiscoD/GO/Python/Examenes/TestingTor.ipynb Cell 11'\u001b[0m in \u001b[0;36m<cell line: 5>\u001b[0;34m()\u001b[0m\n\u001b[1;32m      <a href='vscode-notebook-cell:/home/slayer/DiscoD/GO/Python/Examenes/TestingTor.ipynb#ch0000012?line=2'>3</a>\u001b[0m \u001b[39mimport\u001b[39;00m \u001b[39mtime\u001b[39;00m\n\u001b[1;32m      <a href='vscode-notebook-cell:/home/slayer/DiscoD/GO/Python/Examenes/TestingTor.ipynb#ch0000012?line=3'>4</a>\u001b[0m res\u001b[39m=\u001b[39masyncio\u001b[39m.\u001b[39mcreate_task(asyncio\u001b[39m.\u001b[39msleep(\u001b[39m10\u001b[39m))\n\u001b[0;32m----> <a href='vscode-notebook-cell:/home/slayer/DiscoD/GO/Python/Examenes/TestingTor.ipynb#ch0000012?line=4'>5</a>\u001b[0m \u001b[39mawait\u001b[39;00m res\n",
      "\u001b[0;31mCancelledError\u001b[0m: "
     ]
    }
   ],
   "source": [
    "import asyncio\n",
    "import random\n",
    "import time\n",
    "res=asyncio.create_task(asyncio.sleep(10))\n",
    "await res\n"
   ]
  },
  {
   "cell_type": "code",
   "execution_count": 6,
   "metadata": {},
   "outputs": [
    {
     "name": "stdout",
     "output_type": "stream",
     "text": [
      "[range(0, 0), range(1, 1), range(2, 1), range(3, 1), range(4, 1), range(5, 1), range(6, 1), range(7, 1), range(8, 1), range(9, 1), range(10, 1), range(11, 1), range(12, 1), range(13, 1), range(14, 1), range(15, 1), range(16, 2), range(17, 2), range(18, 2), range(19, 2), range(20, 2), range(21, 2), range(22, 2), range(23, 2), range(24, 2), range(25, 2), range(26, 2), range(27, 2), range(28, 2), range(29, 2), range(30, 2), range(31, 3), range(32, 3), range(33, 3), range(34, 3), range(35, 3), range(36, 3), range(37, 3), range(38, 3), range(39, 3), range(40, 3), range(41, 3), range(42, 3), range(43, 3), range(44, 3), range(45, 3), range(46, 4), range(47, 4), range(48, 4), range(49, 4), range(50, 4), range(51, 4), range(52, 4), range(53, 4), range(54, 4), range(55, 4), range(56, 4), range(57, 4), range(58, 4), range(59, 4), range(60, 4), range(61, 5), range(62, 5), range(63, 5), range(64, 5), range(65, 5), range(66, 5), range(67, 5), range(68, 5), range(69, 5), range(70, 5), range(71, 5), range(72, 5), range(73, 5), range(74, 5), range(75, 5), range(76, 6), range(77, 6), range(78, 6), range(79, 6), range(80, 6), range(81, 6), range(82, 6), range(83, 6), range(84, 6), range(85, 6), range(86, 6), range(87, 6), range(88, 6), range(89, 6), range(90, 6), range(91, 7), range(92, 7), range(93, 7), range(94, 7)]\n"
     ]
    }
   ],
   "source": [
    "import math\n",
    "users=list(range(95))\n",
    "CountSession=len(users)\n",
    "limitTimeChangeUser=15\n",
    "newusers=[]\n",
    "for x in range(0,CountSession):\n",
    "    division=x/limitTimeChangeUser\n",
    "    newusers.append(users[x:math.ceil(division)])\n",
    "print(newusers)\n"
   ]
  }
 ],
 "metadata": {
  "interpreter": {
   "hash": "a64d553c59a8b48ee309d33eb183d06b094ee6faf623b76f48c6ae798b5651fc"
  },
  "kernelspec": {
   "display_name": "Python 3.9.7 ('Tensor')",
   "language": "python",
   "name": "python3"
  },
  "language_info": {
   "codemirror_mode": {
    "name": "ipython",
    "version": 3
   },
   "file_extension": ".py",
   "mimetype": "text/x-python",
   "name": "python",
   "nbconvert_exporter": "python",
   "pygments_lexer": "ipython3",
   "version": "3.9.2"
  },
  "orig_nbformat": 4
 },
 "nbformat": 4,
 "nbformat_minor": 2
}
