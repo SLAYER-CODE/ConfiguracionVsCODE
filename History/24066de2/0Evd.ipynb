{
 "cells": [
  {
   "cell_type": "code",
   "execution_count": 6,
   "metadata": {},
   "outputs": [],
   "source": [
    "from http import cookies\n",
    "import aiohttp\n",
    "from aiohttp_socks import SocksConnector,ChainProxyConnector\n",
    "import asyncio\n",
    "import json\n",
    "from bs4 import BeautifulSoup,CData\n",
    "import re\n",
    "from aiosocks.connector import ProxyClientRequest,ProxyConnector\n"
   ]
  },
  {
   "cell_type": "code",
   "execution_count": 34,
   "metadata": {},
   "outputs": [],
   "source": [
    "connector = ChainProxyConnector.from_urls([\n",
    "        'socks4://127.0.0.1:9050',\n",
    "    ])"
   ]
  },
  {
   "cell_type": "code",
   "execution_count": 7,
   "metadata": {},
   "outputs": [],
   "source": [
    "async def execute():\n",
    "    conn = ProxyConnector(remote_resolve=False,host=\"socks4://127.0.0.1\",port=9050)\n",
    "    session = aiohttp.ClientSession(connector=conn, request_class=ProxyClientRequest)\n",
    "    burp0_url = \"https://ifconfig.me/\"\n",
    "    async with session.get(burp0_url) as resp:\n",
    "        dato=(await resp.text())\n",
    "        k=dato.find('\"ip_address\"')\n",
    "        print(dato[k-5:k+30])"
   ]
  },
  {
   "cell_type": "code",
   "execution_count": 8,
   "metadata": {},
   "outputs": [
    {
     "ename": "TypeError",
     "evalue": "__init__() got an unexpected keyword argument 'host'",
     "output_type": "error",
     "traceback": [
      "\u001b[0;31m---------------------------------------------------------------------------\u001b[0m",
      "\u001b[0;31mTypeError\u001b[0m                                 Traceback (most recent call last)",
      "\u001b[1;32m/home/slayer/DiscoD/GO/Python/Examenes/TestingTor.ipynb Cell 4'\u001b[0m in \u001b[0;36m<cell line: 1>\u001b[0;34m()\u001b[0m\n\u001b[0;32m----> <a href='vscode-notebook-cell:/home/slayer/DiscoD/GO/Python/Examenes/TestingTor.ipynb#ch0000003?line=0'>1</a>\u001b[0m \u001b[39mawait\u001b[39;00m execute()\n",
      "\u001b[1;32m/home/slayer/DiscoD/GO/Python/Examenes/TestingTor.ipynb Cell 3'\u001b[0m in \u001b[0;36mexecute\u001b[0;34m()\u001b[0m\n\u001b[1;32m      <a href='vscode-notebook-cell:/home/slayer/DiscoD/GO/Python/Examenes/TestingTor.ipynb#ch0000002?line=0'>1</a>\u001b[0m \u001b[39masync\u001b[39;00m \u001b[39mdef\u001b[39;00m \u001b[39mexecute\u001b[39m():\n\u001b[0;32m----> <a href='vscode-notebook-cell:/home/slayer/DiscoD/GO/Python/Examenes/TestingTor.ipynb#ch0000002?line=1'>2</a>\u001b[0m     conn \u001b[39m=\u001b[39m ProxyConnector(remote_resolve\u001b[39m=\u001b[39;49m\u001b[39mFalse\u001b[39;49;00m,host\u001b[39m=\u001b[39;49m\u001b[39m\"\u001b[39;49m\u001b[39msocks4://127.0.0.1\u001b[39;49m\u001b[39m\"\u001b[39;49m,port\u001b[39m=\u001b[39;49m\u001b[39m9050\u001b[39;49m)\n\u001b[1;32m      <a href='vscode-notebook-cell:/home/slayer/DiscoD/GO/Python/Examenes/TestingTor.ipynb#ch0000002?line=2'>3</a>\u001b[0m     session \u001b[39m=\u001b[39m aiohttp\u001b[39m.\u001b[39mClientSession(connector\u001b[39m=\u001b[39mconn, request_class\u001b[39m=\u001b[39mProxyClientRequest)\n\u001b[1;32m      <a href='vscode-notebook-cell:/home/slayer/DiscoD/GO/Python/Examenes/TestingTor.ipynb#ch0000002?line=3'>4</a>\u001b[0m     burp0_url \u001b[39m=\u001b[39m \u001b[39m\"\u001b[39m\u001b[39mhttps://ifconfig.me/\u001b[39m\u001b[39m\"\u001b[39m\n",
      "File \u001b[0;32m/usr/local/lib/python3.9/dist-packages/aiosocks/connector.py:39\u001b[0m, in \u001b[0;36mProxyConnector.__init__\u001b[0;34m(self, remote_resolve, **kwargs)\u001b[0m\n\u001b[1;32m     <a href='file:///usr/local/lib/python3.9/dist-packages/aiosocks/connector.py?line=37'>38</a>\u001b[0m \u001b[39mdef\u001b[39;00m \u001b[39m__init__\u001b[39m(\u001b[39mself\u001b[39m, remote_resolve\u001b[39m=\u001b[39m\u001b[39mTrue\u001b[39;00m, \u001b[39m*\u001b[39m\u001b[39m*\u001b[39mkwargs):\n\u001b[0;32m---> <a href='file:///usr/local/lib/python3.9/dist-packages/aiosocks/connector.py?line=38'>39</a>\u001b[0m     \u001b[39msuper\u001b[39;49m()\u001b[39m.\u001b[39;49m\u001b[39m__init__\u001b[39;49m(\u001b[39m*\u001b[39;49m\u001b[39m*\u001b[39;49mkwargs)\n\u001b[1;32m     <a href='file:///usr/local/lib/python3.9/dist-packages/aiosocks/connector.py?line=40'>41</a>\u001b[0m     \u001b[39mself\u001b[39m\u001b[39m.\u001b[39m_remote_resolve \u001b[39m=\u001b[39m remote_resolve\n",
      "\u001b[0;31mTypeError\u001b[0m: __init__() got an unexpected keyword argument 'host'"
     ]
    }
   ],
   "source": [
    "await execute()\n",
    "# loop=asyncio.get_event_loop().stop()\n"
   ]
  },
  {
   "cell_type": "code",
   "execution_count": 84,
   "metadata": {},
   "outputs": [
    {
     "name": "stdout",
     "output_type": "stream",
     "text": [
      "['ls /zzz' exited with 2]\n",
      "[stderr]\n",
      "ls: no se puede acceder a '/zzz': No existe el fichero o el directorio\n",
      "\n"
     ]
    }
   ],
   "source": [
    "import asyncio\n",
    "\n",
    "async def run(cmd):\n",
    "    proc = await asyncio.create_subprocess_shell(\n",
    "        cmd,\n",
    "        stdout=asyncio.subprocess.PIPE,\n",
    "        stderr=asyncio.subprocess.PIPE)\n",
    "\n",
    "    stdout, stderr = await proc.communicate()\n",
    "\n",
    "    print(f'[{cmd!r} exited with {proc.returncode}]')\n",
    "    if stdout:\n",
    "        print(f'[stdout]\\n{stdout.decode()}')\n",
    "    if stderr:\n",
    "        print(f'[stderr]\\n{stderr.decode()}')\n",
    "\n",
    "await run('ls /zzz')"
   ]
  },
  {
   "cell_type": "code",
   "execution_count": 91,
   "metadata": {},
   "outputs": [
    {
     "name": "stdout",
     "output_type": "stream",
     "text": [
      "1\n",
      "2\n",
      "3\n",
      "4\n"
     ]
    },
    {
     "data": {
      "text/plain": [
       "[None, None]"
      ]
     },
     "execution_count": 91,
     "metadata": {},
     "output_type": "execute_result"
    }
   ],
   "source": [
    "import asyncio\n",
    "import time\n",
    "\n",
    "async def say_after(delay, what):\n",
    "    await asyncio.sleep(delay)\n",
    "    print(what)\n",
    "\n",
    "await asyncio.gather(*[say_after(5,\"1\"),say_after(10,\"2\")])\n",
    "await asyncio.gather(*[say_after(2,\"3\"),say_after(5,\"4\")])\n"
   ]
  },
  {
   "cell_type": "code",
   "execution_count": 94,
   "metadata": {},
   "outputs": [
    {
     "name": "stderr",
     "output_type": "stream",
     "text": [
      "/usr/lib/python3/dist-packages/pygments/regexopt.py:78: RuntimeWarning: coroutine 'say_after' was never awaited\n",
      "  '|'.join(regex_opt_inner(list(group[1]), '')\n",
      "RuntimeWarning: Enable tracemalloc to get the object allocation traceback\n"
     ]
    },
    {
     "ename": "TypeError",
     "evalue": "An asyncio.Future, a coroutine or an awaitable is required",
     "output_type": "error",
     "traceback": [
      "\u001b[0;31m---------------------------------------------------------------------------\u001b[0m",
      "\u001b[0;31mTypeError\u001b[0m                                 Traceback (most recent call last)",
      "\u001b[1;32m/home/slayer/DiscoD/GO/Python/Examenes/TestingTor.ipynb Cell 7'\u001b[0m in \u001b[0;36m<cell line: 1>\u001b[0;34m()\u001b[0m\n\u001b[0;32m----> <a href='vscode-notebook-cell:/home/slayer/DiscoD/GO/Python/Examenes/TestingTor.ipynb#ch0000010?line=0'>1</a>\u001b[0m \u001b[39mawait\u001b[39;00m asyncio\u001b[39m.\u001b[39mgather(\u001b[39mNone\u001b[39;00m)\n",
      "File \u001b[0;32m/usr/lib/python3.9/asyncio/tasks.py:825\u001b[0m, in \u001b[0;36mgather\u001b[0;34m(loop, return_exceptions, *coros_or_futures)\u001b[0m\n\u001b[1;32m    <a href='file:///usr/lib/python3.9/asyncio/tasks.py?line=822'>823</a>\u001b[0m \u001b[39mfor\u001b[39;00m arg \u001b[39min\u001b[39;00m coros_or_futures:\n\u001b[1;32m    <a href='file:///usr/lib/python3.9/asyncio/tasks.py?line=823'>824</a>\u001b[0m     \u001b[39mif\u001b[39;00m arg \u001b[39mnot\u001b[39;00m \u001b[39min\u001b[39;00m arg_to_fut:\n\u001b[0;32m--> <a href='file:///usr/lib/python3.9/asyncio/tasks.py?line=824'>825</a>\u001b[0m         fut \u001b[39m=\u001b[39m ensure_future(arg, loop\u001b[39m=\u001b[39;49mloop)\n\u001b[1;32m    <a href='file:///usr/lib/python3.9/asyncio/tasks.py?line=825'>826</a>\u001b[0m         \u001b[39mif\u001b[39;00m loop \u001b[39mis\u001b[39;00m \u001b[39mNone\u001b[39;00m:\n\u001b[1;32m    <a href='file:///usr/lib/python3.9/asyncio/tasks.py?line=826'>827</a>\u001b[0m             loop \u001b[39m=\u001b[39m futures\u001b[39m.\u001b[39m_get_loop(fut)\n",
      "File \u001b[0;32m/usr/lib/python3.9/asyncio/tasks.py:679\u001b[0m, in \u001b[0;36mensure_future\u001b[0;34m(coro_or_future, loop)\u001b[0m\n\u001b[1;32m    <a href='file:///usr/lib/python3.9/asyncio/tasks.py?line=676'>677</a>\u001b[0m     \u001b[39mreturn\u001b[39;00m ensure_future(_wrap_awaitable(coro_or_future), loop\u001b[39m=\u001b[39mloop)\n\u001b[1;32m    <a href='file:///usr/lib/python3.9/asyncio/tasks.py?line=677'>678</a>\u001b[0m \u001b[39melse\u001b[39;00m:\n\u001b[0;32m--> <a href='file:///usr/lib/python3.9/asyncio/tasks.py?line=678'>679</a>\u001b[0m     \u001b[39mraise\u001b[39;00m \u001b[39mTypeError\u001b[39;00m(\u001b[39m'\u001b[39m\u001b[39mAn asyncio.Future, a coroutine or an awaitable is \u001b[39m\u001b[39m'\u001b[39m\n\u001b[1;32m    <a href='file:///usr/lib/python3.9/asyncio/tasks.py?line=679'>680</a>\u001b[0m                     \u001b[39m'\u001b[39m\u001b[39mrequired\u001b[39m\u001b[39m'\u001b[39m)\n",
      "\u001b[0;31mTypeError\u001b[0m: An asyncio.Future, a coroutine or an awaitable is required"
     ]
    }
   ],
   "source": [
    "await asyncio.gather(None)"
   ]
  },
  {
   "cell_type": "code",
   "execution_count": 9,
   "metadata": {},
   "outputs": [
    {
     "name": "stdout",
     "output_type": "stream",
     "text": [
      "worker-4 has slept for 0.20 seconds\n",
      "worker-4 has slept for 0.06 seconds\n",
      "worker-5 has slept for 0.28 seconds\n",
      "worker-7 has slept for 0.30 seconds\n",
      "worker-2 has slept for 0.36 seconds\n",
      "worker-4 has slept for 0.17 seconds\n",
      "worker-8 has slept for 0.49 seconds\n",
      "worker-3 has slept for 0.53 seconds\n",
      "worker-8 has slept for 0.06 seconds\n",
      "worker-2 has slept for 0.26 seconds\n",
      "worker-9 has slept for 0.63 seconds\n",
      "worker-6 has slept for 0.68 seconds\n",
      "worker-5 has slept for 0.42 seconds\n",
      "worker-1 has slept for 0.78 seconds\n",
      "worker-0 has slept for 0.90 seconds\n",
      "worker-4 has slept for 0.54 seconds\n",
      "worker-3 has slept for 0.48 seconds\n",
      "worker-7 has slept for 0.85 seconds\n",
      "worker-8 has slept for 0.94 seconds\n",
      "worker-2 has slept for 0.98 seconds\n",
      "XD\n",
      "====\n",
      "3 workers slept in parallel for 1.59 seconds\n",
      "total expected sleep time: 9.93 seconds\n"
     ]
    }
   ],
   "source": [
    "import asyncio\n",
    "import random\n",
    "import time\n",
    "\n",
    "\n",
    "async def worker(name, queue):\n",
    "    while True:\n",
    "        # Get a \"work item\" out of the queue.\n",
    "        sleep_for = await queue.get()\n",
    "\n",
    "        # Sleep for the \"sleep_for\" seconds.\n",
    "        await asyncio.sleep(sleep_for)\n",
    "\n",
    "        # Notify the queue that the \"work item\" has been processed.\n",
    "        queue.task_done()\n",
    "\n",
    "        print(f'{name} has slept for {sleep_for:.2f} seconds')\n",
    "\n",
    "\n",
    "async def main():\n",
    "    # Create a queue that we will use to store our \"workload\".\n",
    "    queue = asyncio.Queue()\n",
    "\n",
    "    # Generate random timings and put them into the queue.\n",
    "    total_sleep_time = 0\n",
    "    for _ in range(20):\n",
    "        sleep_for = random.uniform(0.05, 1.0)\n",
    "        total_sleep_time += sleep_for\n",
    "        queue.put_nowait(sleep_for)\n",
    "\n",
    "    # Create three worker tasks to process the queue concurrently.\n",
    "    tasks = []\n",
    "    for i in range(10):\n",
    "        task = asyncio.create_task(worker(f'worker-{i}', queue))\n",
    "        tasks.append(task)\n",
    "\n",
    "    # Wait until the queue is fully processed.\n",
    "    started_at = time.monotonic()\n",
    "    await queue.join()\n",
    "    \n",
    "    total_slept_for = time.monotonic() - started_at\n",
    "    print(\"XD\")\n",
    "    # Cancel our worker tasks.\n",
    "    for task in tasks:\n",
    "        task.cancel()\n",
    "    # Wait until all worker tasks are cancelled.\n",
    "    await asyncio.gather(*tasks, return_exceptions=True)\n",
    "\n",
    "    print('====')\n",
    "    print(f'3 workers slept in parallel for {total_slept_for:.2f} seconds')\n",
    "    print(f'total expected sleep time: {total_sleep_time:.2f} seconds')\n",
    "await main()"
   ]
  },
  {
   "cell_type": "code",
   "execution_count": 6,
   "metadata": {},
   "outputs": [
    {
     "name": "stderr",
     "output_type": "stream",
     "text": [
      "Task was destroyed but it is pending!\n",
      "task: <Task pending name='Task-11' coro=<worker() done, defined at /tmp/ipykernel_346344/2935093205.py:4> wait_for=<Future cancelled>>\n",
      "Task was destroyed but it is pending!\n",
      "task: <Task pending name='Task-13' coro=<worker() done, defined at /tmp/ipykernel_346344/2609955622.py:4> wait_for=<Future cancelled>>\n"
     ]
    },
    {
     "name": "stdout",
     "output_type": "stream",
     "text": [
      "cc\n",
      "cc\n",
      "cc\n",
      "cc\n",
      "cc\n",
      "cc\n",
      "cc\n",
      "cc\n",
      "cc\n",
      "cc\n"
     ]
    }
   ],
   "source": [
    "import asyncio\n",
    "import random\n",
    "import time\n",
    "\n",
    "\n",
    "async def worker(name, queue):\n",
    "    while True:\n",
    "        sleep_for = await queue.get()\n",
    "        print(sleep_for)\n",
    "        print(name)\n",
    "        \n",
    "queue = asyncio.Queue()\n",
    "tasks = []\n",
    "for i in range(10):\n",
    "    task = asyncio.create_task(worker(f'worker-{i}', queue))\n",
    "    tasks.append(task)\n",
    "    print(\"cc\")\n",
    "\n",
    "await asyncio.gather(*tasks, return_exceptions=True)\n",
    "\n",
    "\n"
   ]
  },
  {
   "cell_type": "code",
   "execution_count": 5,
   "metadata": {},
   "outputs": [
    {
     "name": "stdout",
     "output_type": "stream",
     "text": [
      "Se finalizo!\n",
      "Nombre Final 1 5\n",
      "Nombre Final 2 10\n"
     ]
    }
   ],
   "source": [
    "import asyncio\n",
    "import random\n",
    "import time\n",
    "async def worker(name, queue):\n",
    "    # while True:\n",
    "    # Get a \"work item\" out of the queue.\n",
    "    sleep_for = await queue.get()\n",
    "\n",
    "    # Sleep for the \"sleep_for\" seconds.\n",
    "    await asyncio.sleep(sleep_for)\n",
    "\n",
    "    # Notify the queue that the \"work item\" has been processed.\n",
    "    queue.task_done()\n",
    "\n",
    "    print(f'Nombre {name} {sleep_for }')\n",
    "        \n",
    "        \n",
    "queue = asyncio.Queue()\n",
    "queue.put_nowait(20)\n",
    "queue.put_nowait(5)\n",
    "queue.put_nowait(10)\n",
    "asyncio.create_task(worker(\"Final 1\",queue))\n",
    "asyncio.create_task(worker(\"Final 2\",queue))\n",
    "asyncio.create_task(worker(\"Final 3\",queue))\n",
    "await queue.get()\n",
    "print(\"Se finalizo!\")\n",
    "\n",
    "# print(\"Se ejecuto el gatther los hilos xd\")\n",
    "# await asyncio.gather(worker(\"Mi Name 1\",queue),worker(\"Mi Name 2\",queue),worker(\"Mi Name 3\",queue))\n",
    "# print(queue.full())\n",
    "# print(queue.empty())\n",
    "# print(queue.maxsize)\n",
    "# queue.put"
   ]
  },
  {
   "cell_type": "code",
   "execution_count": 1,
   "metadata": {},
   "outputs": [
    {
     "ename": "CancelledError",
     "evalue": "",
     "output_type": "error",
     "traceback": [
      "\u001b[0;31m---------------------------------------------------------------------------\u001b[0m",
      "\u001b[0;31mCancelledError\u001b[0m                            Traceback (most recent call last)",
      "File \u001b[0;32m/usr/lib/python3.9/asyncio/tasks.py:654\u001b[0m, in \u001b[0;36msleep\u001b[0;34m(delay, result, loop)\u001b[0m\n\u001b[1;32m    <a href='file:///usr/lib/python3.9/asyncio/tasks.py?line=652'>653</a>\u001b[0m \u001b[39mtry\u001b[39;00m:\n\u001b[0;32m--> <a href='file:///usr/lib/python3.9/asyncio/tasks.py?line=653'>654</a>\u001b[0m     \u001b[39mreturn\u001b[39;00m \u001b[39mawait\u001b[39;00m future\n\u001b[1;32m    <a href='file:///usr/lib/python3.9/asyncio/tasks.py?line=654'>655</a>\u001b[0m \u001b[39mfinally\u001b[39;00m:\n",
      "\u001b[0;31mCancelledError\u001b[0m: ",
      "\nDuring handling of the above exception, another exception occurred:\n",
      "\u001b[0;31mCancelledError\u001b[0m                            Traceback (most recent call last)",
      "\u001b[1;32m/home/slayer/DiscoD/GO/Python/Examenes/TestingTor.ipynb Cell 11'\u001b[0m in \u001b[0;36m<cell line: 5>\u001b[0;34m()\u001b[0m\n\u001b[1;32m      <a href='vscode-notebook-cell:/home/slayer/DiscoD/GO/Python/Examenes/TestingTor.ipynb#ch0000012?line=2'>3</a>\u001b[0m \u001b[39mimport\u001b[39;00m \u001b[39mtime\u001b[39;00m\n\u001b[1;32m      <a href='vscode-notebook-cell:/home/slayer/DiscoD/GO/Python/Examenes/TestingTor.ipynb#ch0000012?line=3'>4</a>\u001b[0m res\u001b[39m=\u001b[39masyncio\u001b[39m.\u001b[39mcreate_task(asyncio\u001b[39m.\u001b[39msleep(\u001b[39m10\u001b[39m))\n\u001b[0;32m----> <a href='vscode-notebook-cell:/home/slayer/DiscoD/GO/Python/Examenes/TestingTor.ipynb#ch0000012?line=4'>5</a>\u001b[0m \u001b[39mawait\u001b[39;00m res\n",
      "\u001b[0;31mCancelledError\u001b[0m: "
     ]
    }
   ],
   "source": [
    "import asyncio\n",
    "import random\n",
    "import time\n",
    "res=asyncio.create_task(asyncio.sleep(10))\n",
    "await res\n"
   ]
  },
  {
   "cell_type": "code",
   "execution_count": 21,
   "metadata": {},
   "outputs": [
    {
     "name": "stdout",
     "output_type": "stream",
     "text": [
      "0.3333333333333333\n",
      "[1]\n",
      "0.6666666666666666\n",
      "[2]\n",
      "1.0\n",
      "[3]\n",
      "1.3333333333333333\n",
      "[4, 5]\n",
      "1.6666666666666667\n",
      "2.0\n",
      "[6, 7]\n",
      "2.3333333333333335\n",
      "2.6666666666666665\n",
      "[8, 9, 10]\n",
      "3.0\n",
      "3.3333333333333335\n",
      "3.6666666666666665\n",
      "[11, 12, 13, 14]\n",
      "4.0\n",
      "4.333333333333333\n",
      "4.666666666666667\n",
      "5.0\n",
      "[15, 16, 17, 18, 19]\n",
      "5.333333333333333\n",
      "5.666666666666667\n",
      "6.0\n",
      "6.333333333333333\n",
      "6.666666666666667\n",
      "[20, 21, 22, 23, 24, 25, 26]\n",
      "7.0\n",
      "7.333333333333333\n",
      "7.666666666666667\n",
      "8.0\n",
      "8.333333333333334\n",
      "8.666666666666666\n",
      "9.0\n",
      "[27, 28, 29, 30, 31]\n",
      "9.333333333333334\n",
      "9.666666666666666\n",
      "10.0\n",
      "10.333333333333334\n",
      "[[1], [2], [3], [4, 5], [6, 7], [8, 9, 10], [11, 12, 13, 14], [15, 16, 17, 18, 19], [20, 21, 22, 23, 24, 25, 26], [27, 28, 29, 30, 31]]\n"
     ]
    }
   ],
   "source": [
    "import math\n",
    "users=list(range(32))\n",
    "CountSession=len(users)\n",
    "limitTimeChangeUser=3\n",
    "newusers=[]\n",
    "rest=1\n",
    "for x in range(1,CountSession):\n",
    "    division=x/limitTimeChangeUser\n",
    "    print(division)\n",
    "    if(x==rest):\n",
    "        newusers.append(users[x:x+math.ceil(division)])\n",
    "        print(users[x:x+math.ceil(division)])\n",
    "        rest=x+math.ceil(division)\n",
    "print(newusers)\n",
    "\n",
    "for x in range(0,CountSession,CountSession//limitTimeChangeUser)\n"
   ]
  },
  {
   "cell_type": "code",
   "execution_count": 29,
   "metadata": {},
   "outputs": [
    {
     "name": "stdout",
     "output_type": "stream",
     "text": [
      "[[0, 3, 6, 9, 12, 15, 18, 21, 24, 27, 30], [1, 4, 7, 10, 13, 16, 19, 22, 25, 28, 31], [2, 5, 8, 11, 14, 17, 20, 23, 26, 29]]\n"
     ]
    },
    {
     "data": {
      "text/plain": [
       "False"
      ]
     },
     "execution_count": 29,
     "metadata": {},
     "output_type": "execute_result"
    }
   ],
   "source": [
    "import math\n",
    "users=list(range(32))\n",
    "CountSession=len(users)\n",
    "limitTimeChangeUser=3\n",
    "newusers=[[] for x in range(limitTimeChangeUser)]\n",
    "for y,x in enumerate(users):\n",
    "    newusers[y%limitTimeChangeUser].append(x)\n",
    "print(newusers)\n",
    "newusers[2]==newusers[1]"
   ]
  },
  {
   "cell_type": "code",
   "execution_count": 32,
   "metadata": {},
   "outputs": [
    {
     "name": "stdout",
     "output_type": "stream",
     "text": [
      "https://python.org launched\n",
      "Python: 200\n"
     ]
    }
   ],
   "source": [
    "\n",
    "import aiohttp\n",
    "import asyncio\n",
    "\n",
    "async def fetch(session, url):\n",
    "    async with session.get(url) as response:\n",
    "        print(\"%s launched\" % url)\n",
    "        return response\n",
    "\n",
    "async def main():\n",
    "    async with aiohttp.ClientSession() as session:\n",
    "        python = await fetch(session, 'https://python.org')\n",
    "        print(\"Python: %s\" % python.status)\n",
    "        \n",
    "await main()"
   ]
  },
  {
   "cell_type": "code",
   "execution_count": 1,
   "metadata": {},
   "outputs": [],
   "source": [
    "import asyncio"
   ]
  },
  {
   "cell_type": "code",
   "execution_count": null,
   "metadata": {},
   "outputs": [],
   "source": [
    "newusers=[False,False,False,True]\n",
    "\n",
    "async def TuneProccesHaking(x,y):\n",
    "    await asyncio.sleep(random.randint(3,10))\n",
    "    return x\n",
    "async def main():\n",
    "    coro=[TuneProccesHaking(x,1*y) for y,x in enumerate(newusers,1)]\n",
    "    while coro:\n",
    "        finished, unfinished = await asyncio.wait(coro,return_when=asyncio.FIRST_COMPLETED)\n",
    "        for x in finished:\n",
    "            result = x.result()\n",
    "            if(result[0]!=None):\n",
    "                for y in unfinished:\n",
    "                    y.cancel()\n",
    "                return result\n",
    "        coro=unfinished\n",
    "        return [None,None]\n",
    "print(await main())"
   ]
  }
 ],
 "metadata": {
  "interpreter": {
   "hash": "a64d553c59a8b48ee309d33eb183d06b094ee6faf623b76f48c6ae798b5651fc"
  },
  "kernelspec": {
   "display_name": "Python 3.9.7 ('Tensor')",
   "language": "python",
   "name": "python3"
  },
  "language_info": {
   "codemirror_mode": {
    "name": "ipython",
    "version": 3
   },
   "file_extension": ".py",
   "mimetype": "text/x-python",
   "name": "python",
   "nbconvert_exporter": "python",
   "pygments_lexer": "ipython3",
   "version": "3.9.2"
  },
  "orig_nbformat": 4
 },
 "nbformat": 4,
 "nbformat_minor": 2
}
