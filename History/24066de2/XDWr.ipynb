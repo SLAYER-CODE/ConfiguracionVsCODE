{
 "cells": [
  {
   "cell_type": "code",
   "execution_count": 78,
   "metadata": {},
   "outputs": [],
   "source": [
    "from http import cookies\n",
    "import aiohttp\n",
    "from aiohttp_socks import ProxyConnector, SocksConnector,ChainProxyConnector\n",
    "import asyncio\n",
    "import json\n",
    "from bs4 import BeautifulSoup,CData\n",
    "import re"
   ]
  },
  {
   "cell_type": "code",
   "execution_count": 79,
   "metadata": {},
   "outputs": [],
   "source": [
    "connector = ChainProxyConnector.from_urls([\n",
    "        'socks4://127.0.0.1:9050',\n",
    "    ])"
   ]
  },
  {
   "cell_type": "code",
   "execution_count": 80,
   "metadata": {},
   "outputs": [],
   "source": [
    "async def execute():\n",
    "    async with aiohttp.ClientSession(connector=connector) as session:\n",
    "        burp0_url = \"https://ifconfig.me/\"\n",
    "        async with session.get(burp0_url) as resp:\n",
    "            dato=(await resp.text())\n",
    "            k=dato.find('\"ip_address\"')\n",
    "            print(dato[k-5:k+30])"
   ]
  },
  {
   "cell_type": "code",
   "execution_count": 81,
   "metadata": {},
   "outputs": [
    {
     "name": "stdout",
     "output_type": "stream",
     "text": [
      "g id=\"ip_address\">192.42.116.19</st\n"
     ]
    }
   ],
   "source": [
    "await execute()\n",
    "# loop=asyncio.get_event_loop().stop()\n"
   ]
  },
  {
   "cell_type": "code",
   "execution_count": 84,
   "metadata": {},
   "outputs": [
    {
     "name": "stdout",
     "output_type": "stream",
     "text": [
      "['ls /zzz' exited with 2]\n",
      "[stderr]\n",
      "ls: no se puede acceder a '/zzz': No existe el fichero o el directorio\n",
      "\n"
     ]
    }
   ],
   "source": [
    "import asyncio\n",
    "\n",
    "async def run(cmd):\n",
    "    proc = await asyncio.create_subprocess_shell(\n",
    "        cmd,\n",
    "        stdout=asyncio.subprocess.PIPE,\n",
    "        stderr=asyncio.subprocess.PIPE)\n",
    "\n",
    "    stdout, stderr = await proc.communicate()\n",
    "\n",
    "    print(f'[{cmd!r} exited with {proc.returncode}]')\n",
    "    if stdout:\n",
    "        print(f'[stdout]\\n{stdout.decode()}')\n",
    "    if stderr:\n",
    "        print(f'[stderr]\\n{stderr.decode()}')\n",
    "\n",
    "await run('ls /zzz')"
   ]
  },
  {
   "cell_type": "code",
   "execution_count": 91,
   "metadata": {},
   "outputs": [
    {
     "name": "stdout",
     "output_type": "stream",
     "text": [
      "1\n",
      "2\n",
      "3\n",
      "4\n"
     ]
    },
    {
     "data": {
      "text/plain": [
       "[None, None]"
      ]
     },
     "execution_count": 91,
     "metadata": {},
     "output_type": "execute_result"
    }
   ],
   "source": [
    "import asyncio\n",
    "import time\n",
    "\n",
    "async def say_after(delay, what):\n",
    "    await asyncio.sleep(delay)\n",
    "    print(what)\n",
    "\n",
    "await asyncio.gather(*[say_after(5,\"1\"),say_after(10,\"2\")])\n",
    "await asyncio.gather(*[say_after(2,\"3\"),say_after(5,\"4\")])\n"
   ]
  },
  {
   "cell_type": "code",
   "execution_count": 94,
   "metadata": {},
   "outputs": [
    {
     "name": "stderr",
     "output_type": "stream",
     "text": [
      "/usr/lib/python3/dist-packages/pygments/regexopt.py:78: RuntimeWarning: coroutine 'say_after' was never awaited\n",
      "  '|'.join(regex_opt_inner(list(group[1]), '')\n",
      "RuntimeWarning: Enable tracemalloc to get the object allocation traceback\n"
     ]
    },
    {
     "ename": "TypeError",
     "evalue": "An asyncio.Future, a coroutine or an awaitable is required",
     "output_type": "error",
     "traceback": [
      "\u001b[0;31m---------------------------------------------------------------------------\u001b[0m",
      "\u001b[0;31mTypeError\u001b[0m                                 Traceback (most recent call last)",
      "\u001b[1;32m/home/slayer/DiscoD/GO/Python/Examenes/TestingTor.ipynb Cell 7'\u001b[0m in \u001b[0;36m<cell line: 1>\u001b[0;34m()\u001b[0m\n\u001b[0;32m----> <a href='vscode-notebook-cell:/home/slayer/DiscoD/GO/Python/Examenes/TestingTor.ipynb#ch0000010?line=0'>1</a>\u001b[0m \u001b[39mawait\u001b[39;00m asyncio\u001b[39m.\u001b[39mgather(\u001b[39mNone\u001b[39;00m)\n",
      "File \u001b[0;32m/usr/lib/python3.9/asyncio/tasks.py:825\u001b[0m, in \u001b[0;36mgather\u001b[0;34m(loop, return_exceptions, *coros_or_futures)\u001b[0m\n\u001b[1;32m    <a href='file:///usr/lib/python3.9/asyncio/tasks.py?line=822'>823</a>\u001b[0m \u001b[39mfor\u001b[39;00m arg \u001b[39min\u001b[39;00m coros_or_futures:\n\u001b[1;32m    <a href='file:///usr/lib/python3.9/asyncio/tasks.py?line=823'>824</a>\u001b[0m     \u001b[39mif\u001b[39;00m arg \u001b[39mnot\u001b[39;00m \u001b[39min\u001b[39;00m arg_to_fut:\n\u001b[0;32m--> <a href='file:///usr/lib/python3.9/asyncio/tasks.py?line=824'>825</a>\u001b[0m         fut \u001b[39m=\u001b[39m ensure_future(arg, loop\u001b[39m=\u001b[39;49mloop)\n\u001b[1;32m    <a href='file:///usr/lib/python3.9/asyncio/tasks.py?line=825'>826</a>\u001b[0m         \u001b[39mif\u001b[39;00m loop \u001b[39mis\u001b[39;00m \u001b[39mNone\u001b[39;00m:\n\u001b[1;32m    <a href='file:///usr/lib/python3.9/asyncio/tasks.py?line=826'>827</a>\u001b[0m             loop \u001b[39m=\u001b[39m futures\u001b[39m.\u001b[39m_get_loop(fut)\n",
      "File \u001b[0;32m/usr/lib/python3.9/asyncio/tasks.py:679\u001b[0m, in \u001b[0;36mensure_future\u001b[0;34m(coro_or_future, loop)\u001b[0m\n\u001b[1;32m    <a href='file:///usr/lib/python3.9/asyncio/tasks.py?line=676'>677</a>\u001b[0m     \u001b[39mreturn\u001b[39;00m ensure_future(_wrap_awaitable(coro_or_future), loop\u001b[39m=\u001b[39mloop)\n\u001b[1;32m    <a href='file:///usr/lib/python3.9/asyncio/tasks.py?line=677'>678</a>\u001b[0m \u001b[39melse\u001b[39;00m:\n\u001b[0;32m--> <a href='file:///usr/lib/python3.9/asyncio/tasks.py?line=678'>679</a>\u001b[0m     \u001b[39mraise\u001b[39;00m \u001b[39mTypeError\u001b[39;00m(\u001b[39m'\u001b[39m\u001b[39mAn asyncio.Future, a coroutine or an awaitable is \u001b[39m\u001b[39m'\u001b[39m\n\u001b[1;32m    <a href='file:///usr/lib/python3.9/asyncio/tasks.py?line=679'>680</a>\u001b[0m                     \u001b[39m'\u001b[39m\u001b[39mrequired\u001b[39m\u001b[39m'\u001b[39m)\n",
      "\u001b[0;31mTypeError\u001b[0m: An asyncio.Future, a coroutine or an awaitable is required"
     ]
    }
   ],
   "source": [
    "await asyncio.gather(None)"
   ]
  },
  {
   "cell_type": "code",
   "execution_count": 7,
   "metadata": {},
   "outputs": [
    {
     "name": "stdout",
     "output_type": "stream",
     "text": [
      "cc\n",
      "cc\n",
      "cc\n",
      "cc\n",
      "cc\n",
      "cc\n",
      "cc\n",
      "cc\n",
      "cc\n",
      "cc\n",
      "worker-3 has slept for 0.19 seconds\n",
      "worker-8 has slept for 0.28 seconds\n",
      "worker-6 has slept for 0.31 seconds\n",
      "worker-9 has slept for 0.32 seconds\n",
      "worker-0 has slept for 0.37 seconds\n",
      "worker-4 has slept for 0.48 seconds\n",
      "worker-5 has slept for 0.50 seconds\n",
      "worker-6 has slept for 0.39 seconds\n",
      "worker-6 has slept for 0.08 seconds\n",
      "worker-2 has slept for 0.79 seconds\n",
      "worker-1 has slept for 0.91 seconds\n",
      "worker-7 has slept for 0.93 seconds\n",
      "worker-4 has slept for 0.61 seconds\n",
      "worker-0 has slept for 0.76 seconds\n",
      "worker-3 has slept for 0.94 seconds\n",
      "worker-8 has slept for 0.97 seconds\n",
      "worker-9 has slept for 0.94 seconds\n",
      "worker-5 has slept for 0.94 seconds\n",
      "worker-2 has slept for 0.92 seconds\n",
      "worker-6 has slept for 0.99 seconds\n",
      "====\n",
      "3 workers slept in parallel for 1.76 seconds\n",
      "total expected sleep time: 12.62 seconds\n"
     ]
    }
   ],
   "source": [
    "import asyncio\n",
    "import random\n",
    "import time\n",
    "\n",
    "\n",
    "async def worker(name, queue):\n",
    "    while True:\n",
    "        # Get a \"work item\" out of the queue.\n",
    "        sleep_for = await queue.get()\n",
    "\n",
    "        # Sleep for the \"sleep_for\" seconds.\n",
    "        await asyncio.sleep(sleep_for)\n",
    "\n",
    "        # Notify the queue that the \"work item\" has been processed.\n",
    "        queue.task_done()\n",
    "\n",
    "        print(f'{name} has slept for {sleep_for:.2f} seconds')\n",
    "\n",
    "\n",
    "async def main():\n",
    "    # Create a queue that we will use to store our \"workload\".\n",
    "    queue = asyncio.Queue()\n",
    "\n",
    "    # Generate random timings and put them into the queue.\n",
    "    total_sleep_time = 0\n",
    "    for _ in range(20):\n",
    "        sleep_for = random.uniform(0.05, 1.0)\n",
    "        total_sleep_time += sleep_for\n",
    "        queue.put_nowait(sleep_for)\n",
    "\n",
    "    # Create three worker tasks to process the queue concurrently.\n",
    "    tasks = []\n",
    "    for i in range(10):\n",
    "        task = asyncio.create_task(worker(f'worker-{i}', queue))\n",
    "        tasks.append(task)\n",
    "        print(\"cc\")\n",
    "\n",
    "    # Wait until the queue is fully processed.\n",
    "    started_at = time.monotonic()\n",
    "    await queue.join()\n",
    "    \n",
    "    total_slept_for = time.monotonic() - started_at\n",
    "    print(\"XD\")\n",
    "    # Cancel our worker tasks.\n",
    "    for task in tasks:\n",
    "        task.cancel()\n",
    "    # Wait until all worker tasks are cancelled.\n",
    "    await asyncio.gather(*tasks, return_exceptions=True)\n",
    "\n",
    "    print('====')\n",
    "    print(f'3 workers slept in parallel for {total_slept_for:.2f} seconds')\n",
    "    print(f'total expected sleep time: {total_sleep_time:.2f} seconds')\n",
    "await main()"
   ]
  },
  {
   "cell_type": "code",
   "execution_count": null,
   "metadata": {},
   "outputs": [],
   "source": [
    "import asyncio\n",
    "import random\n",
    "import time\n",
    "\n",
    "\n",
    "async def worker(name, queue):\n",
    "    while True:\n",
    "        sleep_for = await queue.get()\n",
    "        print(sleep_for)\n",
    "        print(name)\n",
    "        \n",
    "queue = asyncio.Queue()\n",
    "tasks = []\n",
    "for i in range(10):\n",
    "    task = asyncio.create_task(worker(f'worker-{i}', queue))\n",
    "    tasks.append(task)\n",
    "    print(\"cc\")\n",
    "\n",
    "await asyncio.gather(*tasks, return_exceptions=True)\n",
    "\n",
    "\n"
   ]
  },
  {
   "cell_type": "code",
   "execution_count": 1,
   "metadata": {},
   "outputs": [],
   "source": [
    "import asyncio\n",
    "import random\n",
    "import time\n",
    "async def worker(name, queue):\n",
    "    while True:\n",
    "        # Get a \"work item\" out of the queue.\n",
    "        sleep_for = await queue.get()\n",
    "\n",
    "        # Sleep for the \"sleep_for\" seconds.\n",
    "        await asyncio.sleep(sleep_for)\n",
    "\n",
    "        # Notify the queue that the \"work item\" has been processed.\n",
    "        queue.task_done()\n",
    "\n",
    "        print(f'Nombre {name}')\n",
    "        \n",
    "        \n",
    "queue = asyncio.Queue()\n",
    "queue.put_nowait(20)\n",
    "queue.put_nowait(5)\n",
    "queue.put_nowait(10)\n",
    "\n",
    "await queue.join()\n",
    "print(\"Se ejecuto el gatther los hilos xd\")\n",
    "await asyncio.gather(worker(\"Mi Name 1\",queue),worker(\"Mi Name 2\",queue),worker(\"Mi Name 3\",queue))\n",
    "print(queue.full())\n",
    "print(queue.empty())\n",
    "print(queue.maxsize)\n",
    "# queue.put"
   ]
  },
  {
   "cell_type": "code",
   "execution_count": 6,
   "metadata": {},
   "outputs": [],
   "source": [
    "import asyncio\n",
    "import random\n",
    "import time\n",
    "res=asyncio.create_task(asyncio.sleep(10))\n",
    "await res\n"
   ]
  }
 ],
 "metadata": {
  "interpreter": {
   "hash": "a64d553c59a8b48ee309d33eb183d06b094ee6faf623b76f48c6ae798b5651fc"
  },
  "kernelspec": {
   "display_name": "Python 3.9.7 ('Tensor')",
   "language": "python",
   "name": "python3"
  },
  "language_info": {
   "codemirror_mode": {
    "name": "ipython",
    "version": 3
   },
   "file_extension": ".py",
   "mimetype": "text/x-python",
   "name": "python",
   "nbconvert_exporter": "python",
   "pygments_lexer": "ipython3",
   "version": "3.9.2"
  },
  "orig_nbformat": 4
 },
 "nbformat": 4,
 "nbformat_minor": 2
}
